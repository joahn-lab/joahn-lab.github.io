{
 "cells": [
  {
   "cell_type": "code",
   "execution_count": 1,
   "metadata": {},
   "outputs": [],
   "source": [
    "import numpy as np\n",
    "import pandas as pd"
   ]
  },
  {
   "cell_type": "code",
   "execution_count": 2,
   "metadata": {},
   "outputs": [],
   "source": [
    "data = pd.read_csv('data/training_test_data.csv')"
   ]
  },
  {
   "cell_type": "code",
   "execution_count": 3,
   "metadata": {},
   "outputs": [
    {
     "data": {
      "text/html": [
       "<div>\n",
       "<style scoped>\n",
       "    .dataframe tbody tr th:only-of-type {\n",
       "        vertical-align: middle;\n",
       "    }\n",
       "\n",
       "    .dataframe tbody tr th {\n",
       "        vertical-align: top;\n",
       "    }\n",
       "\n",
       "    .dataframe thead th {\n",
       "        text-align: right;\n",
       "    }\n",
       "</style>\n",
       "<table border=\"1\" class=\"dataframe\">\n",
       "  <thead>\n",
       "    <tr style=\"text-align: right;\">\n",
       "      <th></th>\n",
       "      <th>Age</th>\n",
       "      <th>Gender</th>\n",
       "      <th>Experience</th>\n",
       "      <th>Income</th>\n",
       "    </tr>\n",
       "  </thead>\n",
       "  <tbody>\n",
       "    <tr>\n",
       "      <th>0</th>\n",
       "      <td>50</td>\n",
       "      <td>1</td>\n",
       "      <td>15</td>\n",
       "      <td>180</td>\n",
       "    </tr>\n",
       "    <tr>\n",
       "      <th>1</th>\n",
       "      <td>29</td>\n",
       "      <td>1</td>\n",
       "      <td>5</td>\n",
       "      <td>163</td>\n",
       "    </tr>\n",
       "    <tr>\n",
       "      <th>2</th>\n",
       "      <td>36</td>\n",
       "      <td>1</td>\n",
       "      <td>6</td>\n",
       "      <td>134</td>\n",
       "    </tr>\n",
       "    <tr>\n",
       "      <th>3</th>\n",
       "      <td>34</td>\n",
       "      <td>2</td>\n",
       "      <td>4</td>\n",
       "      <td>132</td>\n",
       "    </tr>\n",
       "    <tr>\n",
       "      <th>4</th>\n",
       "      <td>46</td>\n",
       "      <td>1</td>\n",
       "      <td>9</td>\n",
       "      <td>188</td>\n",
       "    </tr>\n",
       "  </tbody>\n",
       "</table>\n",
       "</div>"
      ],
      "text/plain": [
       "   Age  Gender  Experience  Income\n",
       "0   50       1          15     180\n",
       "1   29       1           5     163\n",
       "2   36       1           6     134\n",
       "3   34       2           4     132\n",
       "4   46       1           9     188"
      ]
     },
     "execution_count": 3,
     "metadata": {},
     "output_type": "execute_result"
    }
   ],
   "source": [
    "data.head()"
   ]
  },
  {
   "cell_type": "code",
   "execution_count": 4,
   "metadata": {},
   "outputs": [],
   "source": [
    "data_np = data.values"
   ]
  },
  {
   "cell_type": "code",
   "execution_count": 5,
   "metadata": {},
   "outputs": [],
   "source": [
    "np.random.shuffle(data_np) #데이터를 random하게 다시 섞기"
   ]
  },
  {
   "cell_type": "code",
   "execution_count": 6,
   "metadata": {},
   "outputs": [],
   "source": [
    "# 종속변수와 독립변수 데이터 분리하기\n",
    "y = data_np[:,-1]\n",
    "X = data_np[:,:-1]"
   ]
  },
  {
   "cell_type": "code",
   "execution_count": 7,
   "metadata": {},
   "outputs": [],
   "source": [
    "from sklearn.model_selection import train_test_split"
   ]
  },
  {
   "cell_type": "code",
   "execution_count": 8,
   "metadata": {},
   "outputs": [],
   "source": [
    "X_train, X_test, y_train, y_test = train_test_split(X, y, test_size = 0.3)"
   ]
  },
  {
   "cell_type": "code",
   "execution_count": 9,
   "metadata": {},
   "outputs": [
    {
     "data": {
      "text/plain": [
       "(70, 3)"
      ]
     },
     "execution_count": 9,
     "metadata": {},
     "output_type": "execute_result"
    }
   ],
   "source": [
    "X_train.shape"
   ]
  },
  {
   "cell_type": "code",
   "execution_count": 10,
   "metadata": {
    "scrolled": true
   },
   "outputs": [
    {
     "data": {
      "text/plain": [
       "array([[22,  1,  1],\n",
       "       [46,  1,  9],\n",
       "       [39,  1, 10],\n",
       "       [33,  1,  6],\n",
       "       [37,  1, 11],\n",
       "       [24,  2,  2],\n",
       "       [28,  1,  2],\n",
       "       [28,  1,  1],\n",
       "       [33,  1,  7],\n",
       "       [21,  2,  1],\n",
       "       [53,  2, 26],\n",
       "       [31,  2,  4],\n",
       "       [24,  2,  1],\n",
       "       [22,  1,  1],\n",
       "       [37,  2, 11],\n",
       "       [28,  2,  2],\n",
       "       [55,  2, 25],\n",
       "       [22,  1,  1],\n",
       "       [30,  2,  2],\n",
       "       [21,  2,  1],\n",
       "       [28,  2,  3],\n",
       "       [29,  1,  2],\n",
       "       [23,  2,  1],\n",
       "       [41,  2, 15],\n",
       "       [49,  2, 22],\n",
       "       [22,  2,  1],\n",
       "       [50,  2, 21],\n",
       "       [46,  2, 19],\n",
       "       [50,  1, 21],\n",
       "       [33,  1,  3],\n",
       "       [35,  1,  5],\n",
       "       [30,  2,  1],\n",
       "       [50,  1, 20],\n",
       "       [25,  2,  0],\n",
       "       [26,  2,  8],\n",
       "       [57,  1, 30],\n",
       "       [59,  2, 33],\n",
       "       [59,  1, 33],\n",
       "       [57,  1, 31],\n",
       "       [57,  2, 28],\n",
       "       [46,  2, 19],\n",
       "       [27,  1,  5],\n",
       "       [26,  1,  1],\n",
       "       [36,  1,  6],\n",
       "       [43,  2, 17],\n",
       "       [32,  1,  3],\n",
       "       [52,  1, 24],\n",
       "       [46,  1, 19],\n",
       "       [46,  1, 13],\n",
       "       [28,  2,  2],\n",
       "       [23,  2,  3],\n",
       "       [24,  2,  1],\n",
       "       [30,  1,  2],\n",
       "       [44,  1, 10],\n",
       "       [52,  2, 27],\n",
       "       [36,  1, 11],\n",
       "       [26,  2,  2],\n",
       "       [37,  2, 10],\n",
       "       [24,  1,  5],\n",
       "       [48,  1,  7],\n",
       "       [53,  1, 24],\n",
       "       [39,  1,  6],\n",
       "       [40,  1,  9],\n",
       "       [23,  1,  1],\n",
       "       [46,  1, 12],\n",
       "       [34,  2,  4],\n",
       "       [55,  1, 26],\n",
       "       [59,  1, 33],\n",
       "       [31,  1,  6],\n",
       "       [47,  2, 18]])"
      ]
     },
     "execution_count": 10,
     "metadata": {},
     "output_type": "execute_result"
    }
   ],
   "source": [
    "X_train"
   ]
  },
  {
   "cell_type": "code",
   "execution_count": 11,
   "metadata": {},
   "outputs": [
    {
     "data": {
      "text/plain": [
       "(30, 3)"
      ]
     },
     "execution_count": 11,
     "metadata": {},
     "output_type": "execute_result"
    }
   ],
   "source": [
    "X_test.shape"
   ]
  },
  {
   "cell_type": "code",
   "execution_count": 12,
   "metadata": {
    "collapsed": true
   },
   "outputs": [
    {
     "data": {
      "text/plain": [
       "array([[47,  2, 21],\n",
       "       [38,  1, 11],\n",
       "       [23,  1,  5],\n",
       "       [49,  2, 22],\n",
       "       [28,  1,  3],\n",
       "       [53,  2, 23],\n",
       "       [51,  2, 26],\n",
       "       [23,  2,  2],\n",
       "       [57,  2, 29],\n",
       "       [60,  1, 25],\n",
       "       [51,  2, 21],\n",
       "       [33,  2,  3],\n",
       "       [29,  1,  5],\n",
       "       [60,  2, 32],\n",
       "       [48,  2, 15],\n",
       "       [38,  2, 10],\n",
       "       [32,  1,  3],\n",
       "       [51,  2, 17],\n",
       "       [34,  1,  8],\n",
       "       [55,  1, 30],\n",
       "       [58,  2, 29],\n",
       "       [57,  2, 29],\n",
       "       [24,  2,  2],\n",
       "       [57,  1, 30],\n",
       "       [50,  1, 15],\n",
       "       [26,  2,  1],\n",
       "       [44,  1, 16],\n",
       "       [26,  2,  2],\n",
       "       [40,  1, 13],\n",
       "       [33,  1,  3]])"
      ]
     },
     "execution_count": 12,
     "metadata": {},
     "output_type": "execute_result"
    }
   ],
   "source": [
    "X_test"
   ]
  },
  {
   "cell_type": "markdown",
   "metadata": {},
   "source": [
    "## Feature scaling"
   ]
  },
  {
   "cell_type": "markdown",
   "metadata": {},
   "source": [
    "### standardization"
   ]
  },
  {
   "cell_type": "code",
   "execution_count": 13,
   "metadata": {},
   "outputs": [],
   "source": [
    "from sklearn.preprocessing import StandardScaler\n",
    "scaler = StandardScaler()"
   ]
  },
  {
   "cell_type": "code",
   "execution_count": 14,
   "metadata": {},
   "outputs": [],
   "source": [
    "X_train_std = scaler.fit_transform(X_train) # 독립변수만 scaling\n",
    "X_test_std = scaler.transform(X_test) # 독립변수만 scaling"
   ]
  },
  {
   "cell_type": "code",
   "execution_count": 14,
   "metadata": {
    "collapsed": true
   },
   "outputs": [
    {
     "data": {
      "text/plain": [
       "array([[-1.04029189,  1.05887304, -0.96994727],\n",
       "       [ 1.07752829,  1.05887304,  1.44114325],\n",
       "       [-1.447565  ,  1.05887304, -1.0663909 ],\n",
       "       [ 1.64771064, -0.94440028,  2.01980498],\n",
       "       [ 1.4848014 ,  1.05887304,  1.53758687],\n",
       "       [-0.87738264, -0.94440028, -0.96994727],\n",
       "       [ 0.99607367,  1.05887304,  1.34469963],\n",
       "       [ 0.42589131, -0.94440028, -0.19839831],\n",
       "       [-1.20320113,  1.05887304, -0.96994727],\n",
       "       [ 0.58880055,  1.05887304,  0.66959428],\n",
       "       [ 1.56625602,  1.05887304,  1.63403049],\n",
       "       [-0.22574567, -0.94440028, -0.10195469],\n",
       "       [-0.14429104,  1.05887304, -0.10195469],\n",
       "       [ 0.58880055, -0.94440028, -0.29484193],\n",
       "       [ 0.34443669,  1.05887304,  0.47670704],\n",
       "       [-1.12174651,  1.05887304, -1.16283452],\n",
       "       [-1.36611038, -0.94440028, -1.0663909 ],\n",
       "       [-0.06283642,  1.05887304, -0.19839831],\n",
       "       [ 0.10007282, -0.94440028, -0.29484193],\n",
       "       [-1.36611038, -0.94440028, -1.0663909 ],\n",
       "       [-0.06283642, -0.94440028, -0.10195469],\n",
       "       [ 0.42589131, -0.94440028,  0.38026342],\n",
       "       [-0.38865491, -0.94440028, -0.39128555],\n",
       "       [ 0.83316442,  1.05887304,  0.95892515],\n",
       "       [-1.36611038,  1.05887304, -1.0663909 ],\n",
       "       [-0.7144734 , -0.94440028, -0.96994727],\n",
       "       [-1.28465575, -0.94440028, -0.68061641],\n",
       "       [-0.87738264,  1.05887304, -0.87350365],\n",
       "       [-1.28465575,  1.05887304, -0.96994727],\n",
       "       [ 0.91461904, -0.94440028,  0.86248153],\n",
       "       [-0.7144734 ,  1.05887304, -0.96994727],\n",
       "       [-0.47010953, -0.94440028, -0.48772917],\n",
       "       [-0.63301878,  1.05887304, -0.77706003],\n",
       "       [ 0.91461904, -0.94440028,  0.2838198 ],\n",
       "       [ 1.32189215,  1.05887304,  1.24825601],\n",
       "       [-0.63301878, -0.94440028, -0.58417279],\n",
       "       [ 0.58880055,  1.05887304,  0.66959428],\n",
       "       [ 1.72916526,  1.05887304,  1.92336136],\n",
       "       [-0.55156416, -0.94440028, -0.87350365],\n",
       "       [ 1.4848014 , -0.94440028,  1.73047412],\n",
       "       [-0.47010953, -0.94440028, -0.87350365],\n",
       "       [-1.20320113, -0.94440028, -0.68061641],\n",
       "       [-0.30720029, -0.94440028, -0.68061641],\n",
       "       [-1.28465575,  1.05887304, -1.0663909 ],\n",
       "       [-0.55156416, -0.94440028, -0.87350365],\n",
       "       [ 1.15898291,  1.05887304,  1.05536877],\n",
       "       [-0.47010953, -0.94440028, -0.87350365],\n",
       "       [-1.20320113,  1.05887304, -0.96994727],\n",
       "       [ 1.07752829, -0.94440028,  1.15181239],\n",
       "       [ 0.83316442,  1.05887304,  0.95892515],\n",
       "       [ 0.67025518,  1.05887304,  0.86248153],\n",
       "       [-1.447565  ,  1.05887304, -1.0663909 ],\n",
       "       [ 1.15898291, -0.94440028,  1.15181239],\n",
       "       [ 1.72916526, -0.94440028,  1.24825601],\n",
       "       [ 0.10007282, -0.94440028,  0.09093256],\n",
       "       [ 0.58880055, -0.94440028, -0.00551106],\n",
       "       [ 0.0186182 , -0.94440028, -0.58417279],\n",
       "       [-1.28465575, -0.94440028, -1.0663909 ],\n",
       "       [ 1.64771064,  1.05887304,  2.01980498],\n",
       "       [-0.14429104,  1.05887304, -0.19839831],\n",
       "       [ 0.58880055, -0.94440028,  0.09093256],\n",
       "       [-0.47010953, -0.94440028, -0.58417279],\n",
       "       [ 0.58880055, -0.94440028,  0.66959428],\n",
       "       [ 1.64771064, -0.94440028,  2.01980498],\n",
       "       [-1.04029189,  1.05887304, -1.0663909 ],\n",
       "       [ 0.7517098 ,  1.05887304,  0.2838198 ],\n",
       "       [-1.04029189,  1.05887304, -0.96994727],\n",
       "       [ 1.32189215, -0.94440028,  1.73047412],\n",
       "       [-0.87738264, -0.94440028, -0.87350365],\n",
       "       [-1.28465575,  1.05887304, -0.87350365]])"
      ]
     },
     "execution_count": 14,
     "metadata": {},
     "output_type": "execute_result"
    }
   ],
   "source": [
    "X_train_std"
   ]
  },
  {
   "cell_type": "code",
   "execution_count": 15,
   "metadata": {},
   "outputs": [
    {
     "data": {
      "text/plain": [
       "array([[-0.95883727, -0.94440028, -0.68061641],\n",
       "       [-0.47010953,  1.05887304, -0.87350365],\n",
       "       [-0.22574567, -0.94440028, -0.58417279],\n",
       "       [-0.7144734 ,  1.05887304, -1.0663909 ],\n",
       "       [ 1.4848014 ,  1.05887304,  1.63403049],\n",
       "       [ 0.91461904,  1.05887304,  0.86248153],\n",
       "       [ 1.15898291,  1.05887304,  1.34469963],\n",
       "       [-1.36611038, -0.94440028, -1.0663909 ],\n",
       "       [ 0.18152744,  1.05887304,  0.2838198 ],\n",
       "       [-1.04029189,  1.05887304, -0.39128555],\n",
       "       [ 0.99607367,  1.05887304,  0.47670704],\n",
       "       [ 1.4848014 , -0.94440028,  1.73047412],\n",
       "       [ 0.91461904, -0.94440028,  0.7660379 ],\n",
       "       [-0.87738264,  1.05887304, -0.96994727],\n",
       "       [ 0.0186182 , -0.94440028, -0.19839831],\n",
       "       [-1.04029189, -0.94440028, -1.0663909 ],\n",
       "       [ 1.4848014 ,  1.05887304,  1.63403049],\n",
       "       [-0.14429104, -0.94440028, -0.10195469],\n",
       "       [-0.79592802, -0.94440028, -0.96994727],\n",
       "       [ 0.7517098 , -0.94440028, -0.48772917],\n",
       "       [-1.20320113,  1.05887304, -1.0663909 ],\n",
       "       [-0.38865491,  1.05887304, -0.77706003],\n",
       "       [-0.79592802, -0.94440028, -0.68061641],\n",
       "       [ 0.67025518,  1.05887304,  0.57315066],\n",
       "       [ 0.99607367,  1.05887304,  0.86248153],\n",
       "       [ 1.4848014 , -0.94440028,  1.82691774],\n",
       "       [-0.87738264,  1.05887304, -0.96994727],\n",
       "       [ 1.32189215, -0.94440028,  1.34469963],\n",
       "       [-0.87738264, -0.94440028, -1.0663909 ],\n",
       "       [-1.20320113,  1.05887304, -1.0663909 ]])"
      ]
     },
     "execution_count": 15,
     "metadata": {},
     "output_type": "execute_result"
    }
   ],
   "source": [
    "X_test_std"
   ]
  },
  {
   "cell_type": "code",
   "execution_count": 20,
   "metadata": {},
   "outputs": [],
   "source": [
    "from sklearn.linear_model import LinearRegression\n",
    "model_std = LinearRegression()\n",
    "model_std1 = LinearRegression(fit_intercept = False)"
   ]
  },
  {
   "cell_type": "code",
   "execution_count": 21,
   "metadata": {},
   "outputs": [
    {
     "data": {
      "text/plain": [
       "LinearRegression()"
      ]
     },
     "execution_count": 21,
     "metadata": {},
     "output_type": "execute_result"
    }
   ],
   "source": [
    "model_std.fit(X_train_std, y_train)"
   ]
  },
  {
   "cell_type": "code",
   "execution_count": 36,
   "metadata": {},
   "outputs": [
    {
     "data": {
      "text/plain": [
       "array([28.50417698,  1.34204895, -6.21997699])"
      ]
     },
     "execution_count": 36,
     "metadata": {},
     "output_type": "execute_result"
    }
   ],
   "source": [
    "model_std.coef_"
   ]
  },
  {
   "cell_type": "code",
   "execution_count": 37,
   "metadata": {},
   "outputs": [
    {
     "data": {
      "text/plain": [
       "149.32857142857142"
      ]
     },
     "execution_count": 37,
     "metadata": {},
     "output_type": "execute_result"
    }
   ],
   "source": [
    "model_std.intercept_"
   ]
  },
  {
   "cell_type": "code",
   "execution_count": 22,
   "metadata": {},
   "outputs": [
    {
     "data": {
      "text/plain": [
       "0.6080718474619555"
      ]
     },
     "execution_count": 22,
     "metadata": {},
     "output_type": "execute_result"
    }
   ],
   "source": [
    "model_std.score(X_test_std, y_test)"
   ]
  },
  {
   "cell_type": "code",
   "execution_count": 23,
   "metadata": {},
   "outputs": [
    {
     "data": {
      "text/plain": [
       "LinearRegression(fit_intercept=False)"
      ]
     },
     "execution_count": 23,
     "metadata": {},
     "output_type": "execute_result"
    }
   ],
   "source": [
    "model_std1.fit(X_train_std, y_train)"
   ]
  },
  {
   "cell_type": "code",
   "execution_count": 24,
   "metadata": {},
   "outputs": [
    {
     "data": {
      "text/plain": [
       "-27.611830178544533"
      ]
     },
     "execution_count": 24,
     "metadata": {},
     "output_type": "execute_result"
    }
   ],
   "source": [
    "model_std1.score(X_test_std, y_test)"
   ]
  },
  {
   "cell_type": "markdown",
   "metadata": {
    "collapsed": true
   },
   "source": [
    "### min-max scaling"
   ]
  },
  {
   "cell_type": "code",
   "execution_count": 30,
   "metadata": {},
   "outputs": [],
   "source": [
    "from sklearn.preprocessing import MinMaxScaler\n",
    "scaler_minmax = MinMaxScaler()"
   ]
  },
  {
   "cell_type": "code",
   "execution_count": 31,
   "metadata": {},
   "outputs": [],
   "source": [
    "X_train_minmax = scaler_minmax.fit_transform(X_train)\n",
    "X_test_minmax = scaler_minmax.transform(X_test)"
   ]
  },
  {
   "cell_type": "code",
   "execution_count": 32,
   "metadata": {},
   "outputs": [
    {
     "data": {
      "text/plain": [
       "array([[0.68421053, 1.        , 0.63636364],\n",
       "       [0.44736842, 0.        , 0.33333333],\n",
       "       [0.05263158, 0.        , 0.15151515],\n",
       "       [0.73684211, 1.        , 0.66666667],\n",
       "       [0.18421053, 0.        , 0.09090909],\n",
       "       [0.84210526, 1.        , 0.6969697 ],\n",
       "       [0.78947368, 1.        , 0.78787879],\n",
       "       [0.05263158, 1.        , 0.06060606],\n",
       "       [0.94736842, 1.        , 0.87878788],\n",
       "       [1.02631579, 0.        , 0.75757576],\n",
       "       [0.78947368, 1.        , 0.63636364],\n",
       "       [0.31578947, 1.        , 0.09090909],\n",
       "       [0.21052632, 0.        , 0.15151515],\n",
       "       [1.02631579, 1.        , 0.96969697],\n",
       "       [0.71052632, 1.        , 0.45454545],\n",
       "       [0.44736842, 1.        , 0.3030303 ],\n",
       "       [0.28947368, 0.        , 0.09090909],\n",
       "       [0.78947368, 1.        , 0.51515152],\n",
       "       [0.34210526, 0.        , 0.24242424],\n",
       "       [0.89473684, 0.        , 0.90909091],\n",
       "       [0.97368421, 1.        , 0.87878788],\n",
       "       [0.94736842, 1.        , 0.87878788],\n",
       "       [0.07894737, 1.        , 0.06060606],\n",
       "       [0.94736842, 0.        , 0.90909091],\n",
       "       [0.76315789, 0.        , 0.45454545],\n",
       "       [0.13157895, 1.        , 0.03030303],\n",
       "       [0.60526316, 0.        , 0.48484848],\n",
       "       [0.13157895, 1.        , 0.06060606],\n",
       "       [0.5       , 0.        , 0.39393939],\n",
       "       [0.31578947, 0.        , 0.09090909]])"
      ]
     },
     "execution_count": 32,
     "metadata": {},
     "output_type": "execute_result"
    }
   ],
   "source": [
    "X_test_minmax"
   ]
  },
  {
   "cell_type": "code",
   "execution_count": 33,
   "metadata": {},
   "outputs": [
    {
     "data": {
      "text/plain": [
       "LinearRegression()"
      ]
     },
     "execution_count": 33,
     "metadata": {},
     "output_type": "execute_result"
    }
   ],
   "source": [
    "model_minmax = LinearRegression()\n",
    "model_minmax.fit(X_train_minmax, y_train)"
   ]
  },
  {
   "cell_type": "code",
   "execution_count": 34,
   "metadata": {
    "scrolled": true
   },
   "outputs": [
    {
     "data": {
      "text/plain": [
       "0.6080718474619553"
      ]
     },
     "execution_count": 34,
     "metadata": {},
     "output_type": "execute_result"
    }
   ],
   "source": [
    "model_minmax.score(X_test_minmax, y_test)"
   ]
  },
  {
   "cell_type": "code",
   "execution_count": null,
   "metadata": {
    "collapsed": true
   },
   "outputs": [],
   "source": []
  }
 ],
 "metadata": {
  "kernelspec": {
   "display_name": "Python 3",
   "language": "python",
   "name": "python3"
  },
  "language_info": {
   "codemirror_mode": {
    "name": "ipython",
    "version": 3
   },
   "file_extension": ".py",
   "mimetype": "text/x-python",
   "name": "python",
   "nbconvert_exporter": "python",
   "pygments_lexer": "ipython3",
   "version": "3.8.3"
  }
 },
 "nbformat": 4,
 "nbformat_minor": 2
}
